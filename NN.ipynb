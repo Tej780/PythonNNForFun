{
 "cells": [
  {
   "cell_type": "code",
   "execution_count": 1,
   "metadata": {},
   "outputs": [],
   "source": [
    "import random\n",
    "from typing import List, Union, Callable, Tuple"
   ]
  },
  {
   "cell_type": "code",
   "execution_count": 2,
   "metadata": {},
   "outputs": [],
   "source": [
    "Number = Union[int, float]\n",
    "Matrix = List[List[Number]]\n",
    "Vector = List[Number]\n",
    "Tensor = Union[Matrix, Vector]\n",
    "LossFunction = Callable[[Vector, Vector, bool], Union[Number, Vector]]"
   ]
  },
  {
   "attachments": {},
   "cell_type": "markdown",
   "metadata": {},
   "source": [
    "## Tensor operations"
   ]
  },
  {
   "cell_type": "code",
   "execution_count": 3,
   "metadata": {},
   "outputs": [],
   "source": [
    "def tensor_addition(A: Tensor, B: Tensor) -> Tensor:\n",
    "    \"\"\"Elementwise sum between two 2D matrices of the same shape.\n",
    "\n",
    "    Args:\n",
    "        A (Tensor): A Tensor\n",
    "        B (Tensor): B Tensor\n",
    "\n",
    "    Returns:\n",
    "        (Tensor): Tensor with elementwise summed elements\n",
    "    \"\"\"\n",
    "    assert len(A) == len(B)\n",
    "    out = []\n",
    "    for i in range(len(A)):\n",
    "        if isinstance(A[i], list):\n",
    "            assert len(A[i]) == len(B[i])\n",
    "            tmp = []\n",
    "            for j in range(len(A[i])):\n",
    "                tmp.append(A[i][j] + B[i][j])\n",
    "        else:\n",
    "            tmp = A[i] + B[i]\n",
    "        out.append(tmp)\n",
    "    return out"
   ]
  },
  {
   "cell_type": "code",
   "execution_count": 4,
   "metadata": {},
   "outputs": [],
   "source": [
    "def matvec(W: Matrix, x: Vector) -> Vector:\n",
    "    \"\"\"Multiple 2D Matrix and column vector.\n",
    "\n",
    "    output = Wx + b\n",
    "\n",
    "    Args:\n",
    "        W (Matrix): (Weight) Matrix\n",
    "        x (Vector): Column vector\n",
    "\n",
    "    Returns:\n",
    "        (Vector): Matrix-vector product\n",
    "    \"\"\"\n",
    "    Wx = []\n",
    "    for row in W:\n",
    "        assert len(row) == len(x)\n",
    "        Wx.append(sum([row[i] * x[i] for i in range(len(x))]))\n",
    "    return Wx"
   ]
  },
  {
   "cell_type": "code",
   "execution_count": 5,
   "metadata": {},
   "outputs": [],
   "source": [
    "def transpose(A: Matrix) -> Matrix:\n",
    "    \"\"\"Transpose 2D Matrix.\n",
    "\n",
    "    Args:\n",
    "        A (Matrix): A matrix\n",
    "\n",
    "    Return:\n",
    "        (Matrix): Matrix transpose\n",
    "    \"\"\"\n",
    "    n = len(A)\n",
    "    m = len(A[0])\n",
    "    initialise_zeros = lambda n, m: [[0] * m for i in range(n)]\n",
    "    out = initialise_zeros(m, n)\n",
    "    for i in range(n):\n",
    "        for j in range(m):\n",
    "            out[j][i] = A[i][j]\n",
    "    return out"
   ]
  },
  {
   "cell_type": "code",
   "execution_count": 6,
   "metadata": {},
   "outputs": [],
   "source": [
    "def scalar_multiply(alpha: Number, v: Tensor) -> Tensor:\n",
    "    \"\"\"Multiply all elements of a N-D Tensor with a scalar value.\n",
    "\n",
    "    Args:\n",
    "        alpha: Scalar value\n",
    "        v: Multidimensional Tensor\n",
    "\n",
    "    Returns:\n",
    "        Tensor with same shape as original, with each element multiplied by scalar\n",
    "    \"\"\"\n",
    "    if isinstance(v, list):\n",
    "        return [scalar_multiply(alpha, x) for x in v]\n",
    "    else:\n",
    "        return alpha * v"
   ]
  },
  {
   "cell_type": "code",
   "execution_count": 7,
   "metadata": {},
   "outputs": [],
   "source": [
    "def hadamard(a: list, b: list):\n",
    "    \"\"\"Hadamard Product\"\"\"\n",
    "    assert len(a) == len(b)\n",
    "    acc = []\n",
    "    for i in range(len(a)):\n",
    "        acc.append(a[i] * b[i])\n",
    "\n",
    "    return acc"
   ]
  },
  {
   "attachments": {},
   "cell_type": "markdown",
   "metadata": {},
   "source": [
    "## Neural Network initialisation"
   ]
  },
  {
   "cell_type": "code",
   "execution_count": 8,
   "metadata": {},
   "outputs": [],
   "source": [
    "def init_layer(n: int, m: int) -> Tuple[Matrix, Vector]:\n",
    "    \"\"\"Initialise an empty layer with n imputs and m outputs.\n",
    "\n",
    "    Args:\n",
    "        n: Size of the input vector\n",
    "        m: Size of the output vector\n",
    "\n",
    "    Returns:\n",
    "        (Tuple[Matrix, Vector]): Initialised weights (m x n) matrix\n",
    "            and biases (m x 1) vector for the layer\n",
    "    \"\"\"\n",
    "    W = []\n",
    "    b = []\n",
    "    for _ in range(m):\n",
    "        b.append(random.random())\n",
    "        row = []\n",
    "        for _ in range(n):\n",
    "            row.append(random.random())\n",
    "        W.append(row)\n",
    "    return W, b"
   ]
  },
  {
   "cell_type": "code",
   "execution_count": 9,
   "metadata": {},
   "outputs": [],
   "source": [
    "def init_NN(*layers: int):\n",
    "    \"\"\"Initialise the weights and biases for the fully connected neural network.\n",
    "\n",
    "    The network must contain at least two layers (input and output).\n",
    "\n",
    "    Args:\n",
    "        layers (int): The number of nodes within each layer.\n",
    "\n",
    "    Returns:\n",
    "        (List[Matrix], List[Vector]): Lists of weights and biases for the network.\n",
    "    \"\"\"\n",
    "    assert len(layers) > 1\n",
    "    Ws = []\n",
    "    bs = []\n",
    "    for dim in list(zip(layers[:-1], layers[1:])):\n",
    "        W, b = init_layer(*dim)\n",
    "        Ws.append(W)\n",
    "        bs.append(b)\n",
    "    return Ws, bs"
   ]
  },
  {
   "attachments": {},
   "cell_type": "markdown",
   "metadata": {},
   "source": [
    "## Neural Network operations"
   ]
  },
  {
   "cell_type": "code",
   "execution_count": 10,
   "metadata": {},
   "outputs": [],
   "source": [
    "def forward(x: Vector, weights: List[Matrix], biases: List[Vector]) -> List[Vector]:\n",
    "    \"\"\"Forward pass through the neural network.\n",
    "\n",
    "    Args:\n",
    "        x: Input vector\n",
    "        weights (List[Matrix]): Neural network weights\n",
    "        biases (List[Vector]): Neural network biases\n",
    "\n",
    "    Returns:\n",
    "        (List[Vector]): Output for each layer in the network\n",
    "    \"\"\"\n",
    "\n",
    "    xs = [x]\n",
    "    for i in range(len(weights)):\n",
    "        x = matvec(weights[i], x)\n",
    "        x = tensor_addition(x, biases[i])\n",
    "        xs.append(x)\n",
    "    return xs"
   ]
  },
  {
   "cell_type": "code",
   "execution_count": 11,
   "metadata": {},
   "outputs": [],
   "source": [
    "def MSE(\n",
    "    y: Vector, target: Vector, derivative: bool = False\n",
    ") -> Union[float, List[float]]:\n",
    "    \"\"\"Mean Square Error between network output vector and target vector.\n",
    "\n",
    "    Args:\n",
    "        y (Vector): Network output vector\n",
    "        target (Vector): Target vector\n",
    "        derivative (bool): Flag to calculate derivate of loss function for backpropagation\n",
    "\n",
    "    Returns:\n",
    "        (Union[float,List[float]]): Either the loss scalar for a single vector,\n",
    "            or the delta errors vector for backprop\n",
    "\n",
    "    \"\"\"\n",
    "    assert len(y) == len(target)\n",
    "    if derivative:\n",
    "        return [(2 / len(y)) * (y[i] - target[i]) for i in range(len(y))]\n",
    "    diff = [(target[i] - y[i]) ** 2 for i in range(len(y))]\n",
    "    return sum(diff) / len(diff)"
   ]
  },
  {
   "cell_type": "code",
   "execution_count": 12,
   "metadata": {},
   "outputs": [],
   "source": [
    "def dCdw(delta: Vector, o_i: Vector) -> Matrix:\n",
    "    \"\"\"Calculate the derivative of the Cost function with respect to the weight matrix.\n",
    "\n",
    "    Outer product of input from the previous layer with the error from the output\n",
    "    dC/dx_ij = o_j*delta_i\n",
    "\n",
    "    Args:\n",
    "        delta: Output error vector based on the derivative of the Cost function.\n",
    "        o_i: input to the layer\n",
    "\n",
    "    Returns:\n",
    "        (Matrix): Derivative of Cost with respect to the weights\n",
    "\n",
    "    \"\"\"\n",
    "    delta_C = []\n",
    "    for j in range(len(delta)):\n",
    "        tmp = []\n",
    "        for i in range(len(o_i)):\n",
    "            tmp.append(o_i[i] * delta[j])\n",
    "        delta_C.append(tmp)\n",
    "    return delta_C"
   ]
  },
  {
   "cell_type": "code",
   "execution_count": 20,
   "metadata": {},
   "outputs": [],
   "source": [
    "def backprop(\n",
    "    weights: List[Matrix],\n",
    "    biases: List[Vector],\n",
    "    y: Vector,\n",
    "    target: Vector,\n",
    "    loss_fn: LossFunction,\n",
    "    learning_rate: float,\n",
    "):\n",
    "    \"\"\"Propagate error back through network weights and biases.\n",
    "\n",
    "    Args:\n",
    "        weights (List[Matrix]): Weight matrices of the neural network to update\n",
    "        biases (List[Vector], optional): Optional biases to update\n",
    "        y (Vector): Network output vector\n",
    "        target (Vector): Target vector\n",
    "        loss_fn (LossFunction): Loss function with respect to which the gradients are calculated\n",
    "\n",
    "    Returns:\n",
    "        Tuple[List[Matrix],List[Vector]]: Updated weights and biases\n",
    "\n",
    "    \"\"\"\n",
    "    new_weights = []\n",
    "    new_biases = []\n",
    "    dl = loss_fn(y[-1], target, derivative=True)\n",
    "    for i in reversed(range(len(weights))):\n",
    "        new_weight = tensor_addition(\n",
    "            scalar_multiply(-1 * learning_rate, dCdw(dl, y[i])), weights[i]\n",
    "        )\n",
    "        new_bias = tensor_addition(scalar_multiply(-1 * learning_rate, dl), biases[i])\n",
    "        new_weights.append(new_weight)\n",
    "        new_biases.append(new_bias)\n",
    "        dl = matvec(transpose(weights[i]), dl)\n",
    "\n",
    "    return list(reversed(new_weights)), list(reversed(new_biases))"
   ]
  },
  {
   "attachments": {},
   "cell_type": "markdown",
   "metadata": {},
   "source": [
    "## Run Neural Network"
   ]
  },
  {
   "attachments": {},
   "cell_type": "markdown",
   "metadata": {},
   "source": [
    "#### Define test data"
   ]
  },
  {
   "cell_type": "code",
   "execution_count": 14,
   "metadata": {},
   "outputs": [],
   "source": [
    "xs = [[random.randint(0, 9) for _ in range(3)] for _ in range(500)]\n",
    "ys = [[4 * x[0] + x[1] + x[2]] for x in xs]"
   ]
  },
  {
   "cell_type": "code",
   "execution_count": 15,
   "metadata": {},
   "outputs": [],
   "source": [
    "from itertools import cycle\n",
    "\n",
    "in_cycle = cycle(xs)\n",
    "target_cycle = cycle(ys)"
   ]
  },
  {
   "attachments": {},
   "cell_type": "markdown",
   "metadata": {},
   "source": [
    "#### Run epochs"
   ]
  },
  {
   "cell_type": "code",
   "execution_count": 16,
   "metadata": {},
   "outputs": [],
   "source": [
    "LEARNING_RATE = 0.0001"
   ]
  },
  {
   "cell_type": "code",
   "execution_count": 21,
   "metadata": {},
   "outputs": [
    {
     "name": "stdout",
     "output_type": "stream",
     "text": [
      "968.9202177944546\n",
      "3.466022148095932\n",
      "49.90062091299476\n",
      "0.39261666898784064\n",
      "1.0379483557030562\n",
      "10.738162417610882\n",
      "0.20337811881151505\n",
      "0.25592253208325766\n",
      "0.9205492815954703\n",
      "0.12695372819452996\n",
      "0.0507282810603192\n",
      "0.509644285183728\n",
      "0.12187228339550771\n",
      "0.15233539071318225\n",
      "0.0001966397863048252\n",
      "0.5514500705897312\n",
      "0.08844190696479137\n",
      "0.02968836319735766\n",
      "0.008638368257962667\n",
      "0.013971981916877983\n"
     ]
    },
    {
     "data": {
      "text/plain": [
       "[[[0.8755442619027709, 0.04076106356448584, 0.6662058244929537],\n",
       "  [1.0646941174441416, 0.3200627467021175, -0.12494724235149554],\n",
       "  [0.7606209449248398, 0.30241670951129057, 0.11673223799168402]],\n",
       " [[0.08027103826790549, 0.2498306635446614, 0.38586930593543356],\n",
       "  [0.876031874186343, 1.0868682767680151, 0.7787912165055424],\n",
       "  [0.7635051696758953, 0.24882575574019952, 0.16336799711490668]],\n",
       " [[0.19014258168345155, 1.3383244451030567, 0.4231517451983102]]]"
      ]
     },
     "execution_count": 21,
     "metadata": {},
     "output_type": "execute_result"
    }
   ],
   "source": [
    "num_epochs = 500\n",
    "weights, biases = init_NN(3, 3, 3, 1)\n",
    "losses = []\n",
    "for i in range(num_epochs):\n",
    "    x = next(in_cycle)\n",
    "    target = next(target_cycle)\n",
    "    _out = forward(x, weights, biases)\n",
    "    loss = MSE(_out[-1], target)\n",
    "    losses.append(loss)\n",
    "    weights, biases = backprop(weights, biases, _out, target, MSE, LEARNING_RATE)\n",
    "    if i % (num_epochs // 20) == 0:\n",
    "        print(loss)\n",
    "    if loss < 1e-10:\n",
    "        break\n",
    "weights"
   ]
  },
  {
   "cell_type": "code",
   "execution_count": 22,
   "metadata": {},
   "outputs": [],
   "source": [
    "import matplotlib.pyplot as plt"
   ]
  },
  {
   "cell_type": "code",
   "execution_count": 23,
   "metadata": {},
   "outputs": [
    {
     "data": {
      "text/plain": [
       "[<matplotlib.lines.Line2D at 0x2571124f1c0>]"
      ]
     },
     "execution_count": 23,
     "metadata": {},
     "output_type": "execute_result"
    },
    {
     "data": {
      "image/png": "[encoded data removed]",
      "text/plain": [
       "<Figure size 640x480 with 1 Axes>"
      ]
     },
     "metadata": {},
     "output_type": "display_data"
    }
   ],
   "source": [
    "plt.plot(range(len(losses)), losses)"
   ]
  },
  {
   "cell_type": "code",
   "execution_count": null,
   "metadata": {},
   "outputs": [],
   "source": []
  }
 ],
 "metadata": {
  "kernelspec": {
   "display_name": "Python 3.8.3 ('.venv': poetry)",
   "language": "python",
   "name": "python3"
  },
  "language_info": {
   "codemirror_mode": {
    "name": "ipython",
    "version": 3
   },
   "file_extension": ".py",
   "mimetype": "text/x-python",
   "name": "python",
   "nbconvert_exporter": "python",
   "pygments_lexer": "ipython3",
   "version": "3.8.1"
  },
  "orig_nbformat": 4,
  "vscode": {
   "interpreter": {
    "hash": "4420d9b60c4bdb015e25de12c8b56e85dce508c1b37af59711e7915dd1f0c365"
   }
  }
 },
 "nbformat": 4,
 "nbformat_minor": 2
}
